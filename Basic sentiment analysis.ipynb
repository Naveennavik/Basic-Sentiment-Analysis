{
 "cells": [
  {
   "cell_type": "code",
   "execution_count": 1,
   "metadata": {},
   "outputs": [],
   "source": [
    "import nltk\n",
    "import csv\n",
    "import numpy as np"
   ]
  },
  {
   "cell_type": "code",
   "execution_count": 2,
   "metadata": {},
   "outputs": [],
   "source": [
    "negative = []\n",
    "with open (\"words-negative.csv\",\"r\") as file:\n",
    "    reader = csv.reader(file)\n",
    "    for row in reader:\n",
    "        negative.append(row)"
   ]
  },
  {
   "cell_type": "code",
   "execution_count": 3,
   "metadata": {},
   "outputs": [],
   "source": [
    "positive = []\n",
    "with open (\"words-positive.csv\",\"r\") as file:\n",
    "    reader = csv.reader(file)\n",
    "    for row in reader:\n",
    "        positive.append(row)"
   ]
  },
  {
   "cell_type": "code",
   "execution_count": 4,
   "metadata": {},
   "outputs": [
    {
     "data": {
      "text/plain": [
       "[['absolutely'],\n",
       " ['adorable'],\n",
       " ['accepted'],\n",
       " ['acclaimed'],\n",
       " ['accomplish'],\n",
       " ['accomplishment'],\n",
       " ['achievement'],\n",
       " ['action'],\n",
       " ['active'],\n",
       " ['admire']]"
      ]
     },
     "execution_count": 4,
     "metadata": {},
     "output_type": "execute_result"
    }
   ],
   "source": [
    "positive[:10]"
   ]
  },
  {
   "cell_type": "code",
   "execution_count": 5,
   "metadata": {},
   "outputs": [
    {
     "data": {
      "text/plain": [
       "[['abysmal'],\n",
       " ['adverse'],\n",
       " ['alarming'],\n",
       " ['angry'],\n",
       " ['annoy'],\n",
       " ['annoying'],\n",
       " ['anxious'],\n",
       " ['apathy'],\n",
       " ['appalling'],\n",
       " ['atrocious']]"
      ]
     },
     "execution_count": 5,
     "metadata": {},
     "output_type": "execute_result"
    }
   ],
   "source": [
    "negative[:10]"
   ]
  },
  {
   "cell_type": "code",
   "execution_count": 7,
   "metadata": {},
   "outputs": [],
   "source": [
    "def sentiment(text):\n",
    "    text_sent = nltk.sent_tokenize(text)\n",
    "    for sentence in text_sent:\n",
    "        n_count = 0\n",
    "        p_count = 0\n",
    "        sent_words = nltk.word_tokenize(sentence)\n",
    "        for word in sent_words:\n",
    "            for item in positive:\n",
    "                if(word == item[0]):\n",
    "                    p_count +=1\n",
    "            for item in negative:\n",
    "                if(word == item[0]):\n",
    "                    n_count +=1\n",
    "        if(p_count > 0 and n_count ==0):\n",
    "            print (\"+ : \" + sentence)\n",
    "        elif(n_count%2 > 0):\n",
    "            print (\"- : \" + sentence)\n",
    "        elif(n_count%2 == 0 and n_count > 0):\n",
    "            print (\"+ : \" + sentence)\n",
    "        else:\n",
    "            print (\"? : \" + sentence)"
   ]
  },
  {
   "cell_type": "code",
   "execution_count": 8,
   "metadata": {},
   "outputs": [
    {
     "name": "stdout",
     "output_type": "stream",
     "text": [
      "- : It was terribly bad.\n"
     ]
    }
   ],
   "source": [
    "sentiment(\"It was terribly bad.\")"
   ]
  },
  {
   "cell_type": "code",
   "execution_count": 9,
   "metadata": {},
   "outputs": [
    {
     "name": "stdout",
     "output_type": "stream",
     "text": [
      "+ : Actually, it was not bad at all.\n"
     ]
    }
   ],
   "source": [
    "sentiment(\"Actually, it was not bad at all.\")"
   ]
  },
  {
   "cell_type": "code",
   "execution_count": 10,
   "metadata": {},
   "outputs": [
    {
     "name": "stdout",
     "output_type": "stream",
     "text": [
      "? : This is sentence about nothing.\n"
     ]
    }
   ],
   "source": [
    "sentiment(\"This is sentence about nothing.\")"
   ]
  },
  {
   "cell_type": "code",
   "execution_count": null,
   "metadata": {},
   "outputs": [],
   "source": []
  }
 ],
 "metadata": {
  "kernelspec": {
   "display_name": "Python 3",
   "language": "python",
   "name": "python3"
  },
  "language_info": {
   "codemirror_mode": {
    "name": "ipython",
    "version": 3
   },
   "file_extension": ".py",
   "mimetype": "text/x-python",
   "name": "python",
   "nbconvert_exporter": "python",
   "pygments_lexer": "ipython3",
   "version": "3.7.3"
  }
 },
 "nbformat": 4,
 "nbformat_minor": 2
}
